{
 "cells": [
  {
   "cell_type": "markdown",
   "id": "e578e0f9",
   "metadata": {},
   "source": [
    "# Title\n",
    "\n",
    "Explain what this notebook does here."
   ]
  },
  {
   "cell_type": "code",
   "execution_count": 39,
   "id": "57dc8398",
   "metadata": {},
   "outputs": [],
   "source": [
    "import numpy as np\n",
    "import pandas as pd\n",
    "import random\n",
    "from watermark import watermark"
   ]
  },
  {
   "cell_type": "code",
   "execution_count": 42,
   "id": "df264ac8",
   "metadata": {},
   "outputs": [
    {
     "name": "stdout",
     "output_type": "stream",
     "text": [
      "Last updated: 2022-07-25T18:55:36.010675-04:00\n",
      "\n",
      "Python implementation: CPython\n",
      "Python version       : 3.8.5\n",
      "IPython version      : 7.31.1\n",
      "\n",
      "Compiler    : MSC v.1916 64 bit (AMD64)\n",
      "OS          : Windows\n",
      "Release     : 10\n",
      "Machine     : AMD64\n",
      "Processor   : Intel64 Family 6 Model 158 Stepping 9, GenuineIntel\n",
      "CPU cores   : 8\n",
      "Architecture: 64bit\n",
      "pandas: 1.3.3\n",
      "numpy : 1.21.5\n",
      "\n",
      "seed : 10\n"
     ]
    }
   ],
   "source": [
    "# Print the system information used to run this analysis\n",
    "\n",
    "seed = 10\n",
    "random.seed(seed)\n",
    "print(watermark() + watermark(iversions=True, globals_=globals()) + \"\\nseed : {}\".format(seed))"
   ]
  },
  {
   "cell_type": "markdown",
   "id": "1f87e1f4",
   "metadata": {},
   "source": [
    "## Step 1: Data \n",
    "Explain the data. Host it on Figshare or Zenodo."
   ]
  },
  {
   "cell_type": "markdown",
   "id": "a8d5e609",
   "metadata": {},
   "source": [
    "## Step 2: \n",
    "\n",
    "Explain the next step of your analysis"
   ]
  },
  {
   "cell_type": "code",
   "execution_count": null,
   "id": "64166d1d",
   "metadata": {},
   "outputs": [],
   "source": []
  }
 ],
 "metadata": {
  "kernelspec": {
   "display_name": "Python 3 (ipykernel)",
   "language": "python",
   "name": "python3"
  },
  "language_info": {
   "codemirror_mode": {
    "name": "ipython",
    "version": 3
   },
   "file_extension": ".py",
   "mimetype": "text/x-python",
   "name": "python",
   "nbconvert_exporter": "python",
   "pygments_lexer": "ipython3",
   "version": "3.8.5"
  }
 },
 "nbformat": 4,
 "nbformat_minor": 5
}
